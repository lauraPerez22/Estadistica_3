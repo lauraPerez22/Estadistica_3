{
 "cells": [
  {
   "cell_type": "code",
   "execution_count": 43,
   "id": "77015342",
   "metadata": {},
   "outputs": [],
   "source": [
    "import pandas as pd\n",
    "import statsmodels.api as sm\n",
    "import matplotlib.pyplot as plt\n",
    "import statsmodels.api as sm"
   ]
  },
  {
   "cell_type": "code",
   "execution_count": 44,
   "id": "0019ebe8",
   "metadata": {},
   "outputs": [],
   "source": [
    "df = pd.read_excel('Resultados_Saber_TyT_Gen_ricas_2020-1.xlsx')"
   ]
  },
  {
   "cell_type": "code",
   "execution_count": 45,
   "id": "6d6e4e68",
   "metadata": {},
   "outputs": [
    {
     "data": {
      "text/plain": [
       "ESTU_TIPODOCUMENTO           object\n",
       "ESTU_NACIONALIDAD            object\n",
       "ESTU_GENERO                  object\n",
       "ESTU_FECHANACIMIENTO         object\n",
       "ESTU_EXTERIOR                object\n",
       "                             ...   \n",
       "MOD_COMUNI_ESCRITA_PNBC     float64\n",
       "PUNT_GLOBAL                   int64\n",
       "PERCENTIL_GLOBAL            float64\n",
       "PERCENTIL_NBC               float64\n",
       "ESTU_ESTADOINVESTIGACION     object\n",
       "Length: 96, dtype: object"
      ]
     },
     "execution_count": 45,
     "metadata": {},
     "output_type": "execute_result"
    }
   ],
   "source": [
    "df.dtypes"
   ]
  },
  {
   "cell_type": "code",
   "execution_count": 46,
   "id": "92188afa",
   "metadata": {},
   "outputs": [],
   "source": [
    "predictors = df[['ESTU_GENERO', 'FAMI_ESTRATOVIVIENDA', 'ESTU_DEPTO_RESIDE']]\n",
    "target = df['PUNT_GLOBAL']"
   ]
  },
  {
   "cell_type": "code",
   "execution_count": null,
   "id": "92489981",
   "metadata": {},
   "outputs": [],
   "source": []
  },
  {
   "cell_type": "code",
   "execution_count": null,
   "id": "f514f351",
   "metadata": {},
   "outputs": [],
   "source": []
  },
  {
   "cell_type": "code",
   "execution_count": 47,
   "id": "5ab6e8c1",
   "metadata": {},
   "outputs": [
    {
     "name": "stdout",
     "output_type": "stream",
     "text": [
      "      ESTU_GENERO FAMI_ESTRATOVIVIENDA ESTU_DEPTO_RESIDE\n",
      "0               M            Estrato 3            CALDAS\n",
      "1               F                  NaN         RISARALDA\n",
      "2               M            Estrato 1           CORDOBA\n",
      "3               M            Estrato 1            NARIÑO\n",
      "4               M            Estrato 1         SANTANDER\n",
      "...           ...                  ...               ...\n",
      "68720           F            Estrato 1            TOLIMA\n",
      "68721           F            Estrato 1      CUNDINAMARCA\n",
      "68722           F            Estrato 1      CUNDINAMARCA\n",
      "68723           F            Estrato 1      CUNDINAMARCA\n",
      "68724           F            Estrato 2      CUNDINAMARCA\n",
      "\n",
      "[68725 rows x 3 columns]\n"
     ]
    }
   ],
   "source": [
    "print(predictors)"
   ]
  },
  {
   "cell_type": "code",
   "execution_count": 48,
   "id": "60dc86f3",
   "metadata": {},
   "outputs": [],
   "source": [
    "predictors = pd.get_dummies(predictors)"
   ]
  },
  {
   "cell_type": "code",
   "execution_count": 49,
   "id": "b530c5fa",
   "metadata": {},
   "outputs": [],
   "source": [
    "from sklearn.model_selection import train_test_split"
   ]
  },
  {
   "cell_type": "code",
   "execution_count": 50,
   "id": "197d3a62",
   "metadata": {},
   "outputs": [],
   "source": [
    "X_train, X_test, y_train, y_test = train_test_split(predictors, target, test_size=0.2, random_state=42)"
   ]
  },
  {
   "cell_type": "code",
   "execution_count": 51,
   "id": "db0003ce",
   "metadata": {},
   "outputs": [],
   "source": [
    "X_train = sm.add_constant(X_train) "
   ]
  },
  {
   "cell_type": "code",
   "execution_count": 52,
   "id": "962168b9",
   "metadata": {},
   "outputs": [],
   "source": [
    "model = sm.OLS(y_train, X_train).fit()"
   ]
  },
  {
   "cell_type": "code",
   "execution_count": 53,
   "id": "bb75a15c",
   "metadata": {},
   "outputs": [
    {
     "name": "stdout",
     "output_type": "stream",
     "text": [
      "                            OLS Regression Results                            \n",
      "==============================================================================\n",
      "Dep. Variable:            PUNT_GLOBAL   R-squared:                       0.097\n",
      "Model:                            OLS   Adj. R-squared:                  0.096\n",
      "Method:                 Least Squares   F-statistic:                     136.8\n",
      "Date:                Mon, 08 May 2023   Prob (F-statistic):               0.00\n",
      "Time:                        14:42:47   Log-Likelihood:            -2.4030e+05\n",
      "No. Observations:               54980   AIC:                         4.807e+05\n",
      "Df Residuals:                   54936   BIC:                         4.811e+05\n",
      "Df Model:                          43                                         \n",
      "Covariance Type:            nonrobust                                         \n",
      "=====================================================================================================\n",
      "                                        coef    std err          t      P>|t|      [0.025      0.975]\n",
      "-----------------------------------------------------------------------------------------------------\n",
      "const                                72.8227      4.048     17.990      0.000      64.889      80.757\n",
      "ESTU_GENERO_F                         2.6368      1.910      1.380      0.167      -1.107       6.381\n",
      "ESTU_GENERO_M                         3.5545      1.910      1.861      0.063      -0.189       7.298\n",
      "FAMI_ESTRATOVIVIENDA_Estrato 1       12.7791      0.375     34.118      0.000      12.045      13.513\n",
      "FAMI_ESTRATOVIVIENDA_Estrato 2       16.6347      0.356     46.728      0.000      15.937      17.332\n",
      "FAMI_ESTRATOVIVIENDA_Estrato 3       20.1472      0.376     53.516      0.000      19.409      20.885\n",
      "FAMI_ESTRATOVIVIENDA_Estrato 4       23.0025      0.624     36.892      0.000      21.780      24.225\n",
      "FAMI_ESTRATOVIVIENDA_Estrato 5       20.0580      1.214     16.518      0.000      17.678      22.438\n",
      "FAMI_ESTRATOVIVIENDA_Estrato 6       18.4586      2.475      7.459      0.000      13.608      23.309\n",
      "FAMI_ESTRATOVIVIENDA_Sin Estrato     10.8144      1.443      7.493      0.000       7.986      13.643\n",
      "ESTU_DEPTO_RESIDE_AMAZONAS           -3.5242      6.786     -0.519      0.604     -16.825       9.777\n",
      "ESTU_DEPTO_RESIDE_ANTIOQUIA           1.0810      3.562      0.303      0.762      -5.901       8.063\n",
      "ESTU_DEPTO_RESIDE_ARAUCA              0.0120      4.159      0.003      0.998      -8.139       8.163\n",
      "ESTU_DEPTO_RESIDE_ATLANTICO          -0.8766      3.578     -0.245      0.806      -7.889       6.135\n",
      "ESTU_DEPTO_RESIDE_BOGOTÁ              5.7523      3.559      1.616      0.106      -1.224      12.728\n",
      "ESTU_DEPTO_RESIDE_BOLIVAR            -2.3681      3.575     -0.662      0.508      -9.375       4.639\n",
      "ESTU_DEPTO_RESIDE_BOYACA              0.3362      3.587      0.094      0.925      -6.695       7.367\n",
      "ESTU_DEPTO_RESIDE_CALDAS             -0.8685      3.623     -0.240      0.811      -7.969       6.232\n",
      "ESTU_DEPTO_RESIDE_CAQUETA            -2.3582      3.829     -0.616      0.538      -9.863       5.146\n",
      "ESTU_DEPTO_RESIDE_CASANARE            0.4552      3.695      0.123      0.902      -6.788       7.698\n",
      "ESTU_DEPTO_RESIDE_CAUCA              -2.1498      3.617     -0.594      0.552      -9.239       4.940\n",
      "ESTU_DEPTO_RESIDE_CESAR              -4.0738      3.616     -1.127      0.260     -11.160       3.013\n",
      "ESTU_DEPTO_RESIDE_CHOCO             -11.9297      4.205     -2.837      0.005     -20.172      -3.687\n",
      "ESTU_DEPTO_RESIDE_CORDOBA            -4.8162      3.655     -1.318      0.188     -11.981       2.348\n",
      "ESTU_DEPTO_RESIDE_CUNDINAMARCA        2.7531      3.567      0.772      0.440      -4.239       9.745\n",
      "ESTU_DEPTO_RESIDE_EXTRANJERO         -7.3874      9.281     -0.796      0.426     -25.578      10.803\n",
      "ESTU_DEPTO_RESIDE_GUAINIA            -9.6804     10.213     -0.948      0.343     -29.698      10.338\n",
      "ESTU_DEPTO_RESIDE_GUAVIARE           -5.2993      4.369     -1.213      0.225     -13.863       3.264\n",
      "ESTU_DEPTO_RESIDE_HUILA              -2.8593      3.596     -0.795      0.427      -9.908       4.189\n",
      "ESTU_DEPTO_RESIDE_LA GUAJIRA         -3.9700      3.726     -1.066      0.287     -11.273       3.333\n",
      "ESTU_DEPTO_RESIDE_MAGDALENA          -5.8372      3.632     -1.607      0.108     -12.956       1.282\n",
      "ESTU_DEPTO_RESIDE_META               -0.9295      3.608     -0.258      0.797      -8.001       6.142\n",
      "ESTU_DEPTO_RESIDE_NARIÑO             -0.0809      3.622     -0.022      0.982      -7.181       7.019\n",
      "ESTU_DEPTO_RESIDE_NORTE SANTANDER    -0.9284      3.598     -0.258      0.796      -7.980       6.124\n",
      "ESTU_DEPTO_RESIDE_PUTUMAYO           -0.9248      3.759     -0.246      0.806      -8.292       6.443\n",
      "ESTU_DEPTO_RESIDE_QUINDIO             0.9171      3.627      0.253      0.800      -6.193       8.027\n",
      "ESTU_DEPTO_RESIDE_RISARALDA           2.6877      3.606      0.745      0.456      -4.379       9.755\n",
      "ESTU_DEPTO_RESIDE_SAN ANDRES         -0.4897      6.091     -0.080      0.936     -12.429      11.449\n",
      "ESTU_DEPTO_RESIDE_SANTANDER           3.1642      3.576      0.885      0.376      -3.844      10.173\n",
      "ESTU_DEPTO_RESIDE_SUCRE              -3.8159      3.731     -1.023      0.306     -11.129       3.497\n",
      "ESTU_DEPTO_RESIDE_TOLIMA             -2.9993      3.581     -0.838      0.402     -10.018       4.020\n",
      "ESTU_DEPTO_RESIDE_VALLE               0.8999      3.570      0.252      0.801      -6.098       7.898\n",
      "ESTU_DEPTO_RESIDE_VAUPES            -36.2385     19.476     -1.861      0.063     -74.412       1.935\n",
      "ESTU_DEPTO_RESIDE_VICHADA            -3.1969      6.392     -0.500      0.617     -15.726       9.332\n",
      "==============================================================================\n",
      "Omnibus:                      139.723   Durbin-Watson:                   1.989\n",
      "Prob(Omnibus):                  0.000   Jarque-Bera (JB):              127.070\n",
      "Skew:                          -0.082   Prob(JB):                     2.55e-28\n",
      "Kurtosis:                       2.830   Cond. No.                         378.\n",
      "==============================================================================\n",
      "\n",
      "Notes:\n",
      "[1] Standard Errors assume that the covariance matrix of the errors is correctly specified.\n"
     ]
    }
   ],
   "source": [
    "print(model.summary())"
   ]
  },
  {
   "cell_type": "code",
   "execution_count": 54,
   "id": "03232f13",
   "metadata": {},
   "outputs": [],
   "source": [
    "X_test = sm.add_constant(X_test)"
   ]
  },
  {
   "cell_type": "code",
   "execution_count": 55,
   "id": "07bce2d8",
   "metadata": {},
   "outputs": [],
   "source": [
    "y_pred = model.predict(X_test)"
   ]
  },
  {
   "cell_type": "code",
   "execution_count": 56,
   "id": "72e170d0",
   "metadata": {},
   "outputs": [],
   "source": [
    "from sklearn.metrics import r2_score, mean_squared_error"
   ]
  },
  {
   "cell_type": "code",
   "execution_count": 57,
   "id": "440511e7",
   "metadata": {},
   "outputs": [
    {
     "name": "stdout",
     "output_type": "stream",
     "text": [
      "R-cuadrado:  0.1070492967939547\n"
     ]
    }
   ],
   "source": [
    "print('R-cuadrado: ', r2_score(y_test, y_pred))"
   ]
  },
  {
   "cell_type": "code",
   "execution_count": 58,
   "id": "ea958f39",
   "metadata": {},
   "outputs": [
    {
     "name": "stdout",
     "output_type": "stream",
     "text": [
      "MSE:  354.8432613905951\n"
     ]
    }
   ],
   "source": [
    "print('MSE: ', mean_squared_error(y_test, y_pred))"
   ]
  },
  {
   "cell_type": "code",
   "execution_count": null,
   "id": "77168fa1",
   "metadata": {},
   "outputs": [],
   "source": []
  },
  {
   "cell_type": "code",
   "execution_count": null,
   "id": "e81101e6",
   "metadata": {},
   "outputs": [],
   "source": []
  },
  {
   "cell_type": "code",
   "execution_count": null,
   "id": "e6fcac87",
   "metadata": {},
   "outputs": [],
   "source": []
  },
  {
   "cell_type": "code",
   "execution_count": null,
   "id": "b00d1eb5",
   "metadata": {},
   "outputs": [],
   "source": []
  }
 ],
 "metadata": {
  "kernelspec": {
   "display_name": "Python 3 (ipykernel)",
   "language": "python",
   "name": "python3"
  },
  "language_info": {
   "codemirror_mode": {
    "name": "ipython",
    "version": 3
   },
   "file_extension": ".py",
   "mimetype": "text/x-python",
   "name": "python",
   "nbconvert_exporter": "python",
   "pygments_lexer": "ipython3",
   "version": "3.10.9"
  }
 },
 "nbformat": 4,
 "nbformat_minor": 5
}
