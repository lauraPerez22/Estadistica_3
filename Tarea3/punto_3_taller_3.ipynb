{
 "cells": [
  {
   "cell_type": "code",
   "execution_count": 362,
   "id": "306e2828",
   "metadata": {},
   "outputs": [],
   "source": [
    "import requests\n",
    "import pandas as pd\n",
    "import matplotlib.pyplot as plt\n",
    "import numpy as np\n",
    "from sklearn.feature_extraction.text import CountVectorizer\n",
    "from collections import defaultdict\n",
    "from unidecode import unidecode\n",
    "from operator import itemgetter\n",
    "from sklearn.pipeline import Pipeline\n",
    "from sklearn.feature_extraction.text import TfidfTransformer\n",
    "from operator import itemgetter\n",
    "from sklearn.feature_extraction.text import TfidfTransformer\n",
    "from sklearn.model_selection import train_test_split\n",
    "from sklearn.linear_model import LogisticRegression\n",
    "from sklearn.ensemble import RandomForestClassifier\n",
    "from sklearn.ensemble import GradientBoostingClassifier\n",
    "from sklearn.metrics import confusion_matrix, accuracy_score, precision_score, recall_score\n"
   ]
  },
  {
   "cell_type": "code",
   "execution_count": 363,
   "id": "9623cfa0",
   "metadata": {},
   "outputs": [],
   "source": [
    "url = \"https://www.datos.gov.co/resource/v98q-23dp.json?$query=SELECT%0A%20%20%60titulo%60%2C%0A%20%20%60descripcion%60%2C%0A%20%20%60url_lista_de_reproduccion%60%2C%0A%20%20%60plataforma%60\"\n"
   ]
  },
  {
   "cell_type": "code",
   "execution_count": 364,
   "id": "527b040c",
   "metadata": {},
   "outputs": [],
   "source": [
    "response = requests.get(url)"
   ]
  },
  {
   "cell_type": "code",
   "execution_count": 365,
   "id": "9f437b83",
   "metadata": {},
   "outputs": [],
   "source": [
    "if response.status_code == 200:\n",
    "    # La solicitud fue exitosa\n",
    "    data = response.json()  # Obtener los datos de respuesta en formato JSON\n",
    "    df = pd.DataFrame(data)  # Crear un DataFrame a partir de los datos\n",
    "    "
   ]
  },
  {
   "cell_type": "code",
   "execution_count": null,
   "id": "380153f1",
   "metadata": {},
   "outputs": [],
   "source": []
  },
  {
   "cell_type": "code",
   "execution_count": 366,
   "id": "735d839d",
   "metadata": {},
   "outputs": [],
   "source": [
    "\n",
    "palabras = defaultdict(int)"
   ]
  },
  {
   "cell_type": "code",
   "execution_count": 367,
   "id": "5855343a",
   "metadata": {},
   "outputs": [],
   "source": [
    "for titulo in df[\"titulo\"]:\n",
    "    palabras_titulo = titulo.lower().split()\n",
    "    #unidecode para eliminar las tildes de las palabras y convertirlas a minúsculas\n",
    "    palabras_titulo = titulo.lower().replace(\",\", \"\").split()\n",
    "    palabras_titulo = [unidecode(palabra) for palabra in palabras_titulo]\n",
    "    for palabra in palabras_titulo:\n",
    "        palabras[palabra] += 1\n",
    "    "
   ]
  },
  {
   "cell_type": "code",
   "execution_count": 368,
   "id": "6888037e",
   "metadata": {},
   "outputs": [
    {
     "name": "stdout",
     "output_type": "stream",
     "text": [
      "Número total de palabras únicas: 2243\n",
      "Número total de repeticiones: 8758\n"
     ]
    }
   ],
   "source": [
    "# Obtener el número total de palabras únicas\n",
    "num_palabras_unicas = len(palabras)\n",
    "\n",
    "# Obtener el número total de repeticiones\n",
    "num_repeticiones = sum(palabras.values())\n",
    "\n",
    "print(\"Número total de palabras únicas:\", num_palabras_unicas)\n",
    "print(\"Número total de repeticiones:\", num_repeticiones)\n"
   ]
  },
  {
   "cell_type": "code",
   "execution_count": null,
   "id": "88926694",
   "metadata": {},
   "outputs": [],
   "source": []
  },
  {
   "cell_type": "code",
   "execution_count": 369,
   "id": "016ef151",
   "metadata": {},
   "outputs": [],
   "source": [
    "vectorizer = CountVectorizer()\n",
    "vectorizer = CountVectorizer(stop_words=[\",\", \"de\", \"lo\", \"que\", \"la\", \"en\", \"el\", \"los\", \"a\", \"del\", \"y\", \"todo\", \"un\", \"nos\", \".\", \"in\", \",\"]\n",
    ")\n",
    "\n",
    "X = vectorizer.fit_transform(df[\"titulo\"])\n"
   ]
  },
  {
   "cell_type": "code",
   "execution_count": 370,
   "id": "5dbce1b3",
   "metadata": {},
   "outputs": [
    {
     "name": "stdout",
     "output_type": "stream",
     "text": [
      "     urbílogo  bogotá  dominguera  historias  bici  sibaté  pedalea  su  \\\n",
      "0           0       0           0          0     0       0        0   0   \n",
      "1           0       0           0          0     0       0        0   0   \n",
      "2           0       0           0          0     0       0        0   0   \n",
      "3           1       0           0          0     0       0        0   0   \n",
      "4           0       0           0          0     0       0        0   0   \n",
      "..        ...     ...         ...        ...   ...     ...      ...  ..   \n",
      "995         0       0           0          0     0       0        0   0   \n",
      "996         0       0           0          0     0       0        0   0   \n",
      "997         0       0           0          0     0       0        0   0   \n",
      "998         0       0           0          0     0       0        0   0   \n",
      "999         0       0           0          0     0       0        0   0   \n",
      "\n",
      "     pasado  today  ...  víctor  firmes  nn  118  soto  justicia  identidad  \\\n",
      "0         0      0  ...       0       0   0    0     0         0          0   \n",
      "1         0      0  ...       0       0   0    0     0         0          0   \n",
      "2         0      0  ...       0       0   0    0     0         0          0   \n",
      "3         0      0  ...       0       0   0    0     0         0          0   \n",
      "4         0      0  ...       0       0   0    0     0         0          0   \n",
      "..      ...    ...  ...     ...     ...  ..  ...   ...       ...        ...   \n",
      "995       0      0  ...       0       0   0    0     0         0          0   \n",
      "996       0      0  ...       0       0   0    0     0         0          0   \n",
      "997       0      0  ...       0       0   0    0     0         0          0   \n",
      "998       0      0  ...       0       0   0    0     0         0          0   \n",
      "999       0      0  ...       0       0   0    0     0         0          0   \n",
      "\n",
      "     lentejas  ultra  poderosas  \n",
      "0           0      0          0  \n",
      "1           0      0          0  \n",
      "2           0      0          0  \n",
      "3           0      0          0  \n",
      "4           0      0          0  \n",
      "..        ...    ...        ...  \n",
      "995         0      0          0  \n",
      "996         0      0          0  \n",
      "997         0      0          0  \n",
      "998         0      0          0  \n",
      "999         0      0          0  \n",
      "\n",
      "[1000 rows x 2111 columns]\n"
     ]
    }
   ],
   "source": [
    "# Obtener las palabras y sus índices en la matriz\n",
    "\n",
    "vocabulario = vectorizer.vocabulary_\n",
    "indices = list(range(len(vocabulario)))\n",
    "# Crear el dataframe con la matriz de conteo de palabras\n",
    "df_matriz = pd.DataFrame(X.toarray(), columns=vocabulario)\n",
    "\n",
    "print(df_matriz)"
   ]
  },
  {
   "cell_type": "code",
   "execution_count": 371,
   "id": "ec41e36a",
   "metadata": {},
   "outputs": [],
   "source": [
    "# Extraer las palabras y las repeticiones en listas separadas\n",
    "palabras_comunes = [palabra[0] for palabra in top_10_palabras]\n",
    "repeticiones = [palabra[1] for palabra in top_10_palabras]\n"
   ]
  },
  {
   "cell_type": "code",
   "execution_count": 372,
   "id": "c3147d83",
   "metadata": {
    "scrolled": true
   },
   "outputs": [
    {
     "name": "stdout",
     "output_type": "stream",
     "text": [
      "      00   01   02   03   04   05   06   07   08   09  ...  ángel  ávila  \\\n",
      "0    0.0  0.0  0.0  0.0  0.0  0.0  0.0  0.0  0.0  0.0  ...    0.0    0.0   \n",
      "1    0.0  0.0  0.0  0.0  0.0  0.0  0.0  0.0  0.0  0.0  ...    0.0    0.0   \n",
      "2    0.0  0.0  0.0  0.0  0.0  0.0  0.0  0.0  0.0  0.0  ...    0.0    0.0   \n",
      "3    0.1  0.0  0.0  0.0  0.0  0.0  0.0  0.0  0.0  0.0  ...    0.0    0.0   \n",
      "4    0.0  0.0  0.0  0.0  0.0  0.0  0.0  0.0  0.0  0.0  ...    0.0    0.0   \n",
      "..   ...  ...  ...  ...  ...  ...  ...  ...  ...  ...  ...    ...    ...   \n",
      "995  0.0  0.0  0.0  0.0  0.0  0.0  0.0  0.0  0.0  0.0  ...    0.0    0.0   \n",
      "996  0.0  0.0  0.0  0.0  0.0  0.0  0.0  0.0  0.0  0.0  ...    0.0    0.0   \n",
      "997  0.0  0.0  0.0  0.0  0.0  0.0  0.0  0.0  0.0  0.0  ...    0.0    0.0   \n",
      "998  0.0  0.0  0.0  0.0  0.0  0.0  0.0  0.0  0.0  0.0  ...    0.0    0.0   \n",
      "999  0.0  0.0  0.0  0.0  0.0  0.0  0.0  0.0  0.0  0.0  ...    0.0    0.0   \n",
      "\n",
      "     édgar  étienne  étnica  ícono  órbita  óscar  última  último  \n",
      "0      0.0      0.0     0.0    0.0     0.0    0.0     0.0     0.0  \n",
      "1      0.0      0.0     0.0    0.0     0.0    0.0     0.0     0.0  \n",
      "2      0.0      0.0     0.0    0.0     0.0    0.0     0.0     0.0  \n",
      "3      0.0      0.0     0.0    0.0     0.0    0.0     0.0     0.0  \n",
      "4      0.0      0.0     0.0    0.0     0.0    0.0     0.0     0.0  \n",
      "..     ...      ...     ...    ...     ...    ...     ...     ...  \n",
      "995    0.0      0.0     0.0    0.0     0.0    0.0     0.0     0.0  \n",
      "996    0.0      0.0     0.0    0.0     0.0    0.0     0.0     0.0  \n",
      "997    0.0      0.0     0.0    0.0     0.0    0.0     0.0     0.0  \n",
      "998    0.0      0.0     0.0    0.0     0.0    0.0     0.0     0.0  \n",
      "999    0.0      0.0     0.0    0.0     0.0    0.0     0.0     0.0  \n",
      "\n",
      "[1000 rows x 2110 columns]\n"
     ]
    }
   ],
   "source": [
    "\n",
    "top_10_palabras = sorted(palabras.items(), key=itemgetter(1), reverse=True)[:10]\n",
    "stop_words=[\",\", \"de\", \"lo\", \"que\", \"la\", \"en\", \"el\", \"los\", \"a\", \"del\", \"y\", \"todo\", \"un\", \"nos\", \".\", \"in\", \",\", \"-\", \"vemos\"]\n",
    "# Crear el CountVectorizer con las stopwords\n",
    "count_vectorizer = CountVectorizer(stop_words=stop_words)\n",
    "\n",
    "# Obtener la matriz de conteo de palabras\n",
    "X = count_vectorizer.fit_transform(df[\"titulo\"])\n",
    "\n",
    "# Calcular el número total de palabras en cada título\n",
    "num_palabras_por_titulo = X.sum(axis=1)\n",
    "# Dividir la matriz de conteo de palabras por el número total de palabras en cada título\n",
    "X_normalized = X / num_palabras_por_titulo\n",
    "\n",
    "\n",
    "\n",
    "# Crear el TfidfTransformer\n",
    "tfidf_transformer = TfidfTransformer(use_idf=False, norm=\"l1\")\n",
    "\n",
    "# Obtener la matriz TF-IDF normalizada\n",
    "X_tfidf = tfidf_transformer.fit_transform(X)\n",
    "\n",
    "# Crear un dataframe con la matriz TF-IDF Term Frequency\n",
    "df_matriz_nueva = pd.DataFrame(X_tfidf.toarray(), columns=count_vectorizer.get_feature_names_out())\n",
    "\n",
    "print(df_matriz_nueva)"
   ]
  },
  {
   "cell_type": "code",
   "execution_count": 373,
   "id": "4099683c",
   "metadata": {},
   "outputs": [
    {
     "data": {
      "image/png": "[encoded data removed]",
      "text/plain": [
       "<Figure size 1000x600 with 1 Axes>"
      ]
     },
     "metadata": {},
     "output_type": "display_data"
    }
   ],
   "source": [
    "# Crear el gráfico de barras\n",
    "plt.figure(figsize=(10, 6))\n",
    "plt.bar(palabras_comunes, repeticiones)\n",
    "plt.xlabel(\"Palabra\")\n",
    "plt.ylabel(\"Frecuencia\")\n",
    "plt.title(\"Top 10 Palabras Más Comunes en los Títulos\")\n",
    "plt.xticks(rotation=45)\n",
    "plt.show()"
   ]
  },
  {
   "cell_type": "code",
   "execution_count": 374,
   "id": "eb0b5fa5",
   "metadata": {},
   "outputs": [],
   "source": [
    "#Como estas palabras no son útiles las bamos a eliminar \n"
   ]
  },
  {
   "cell_type": "code",
   "execution_count": 375,
   "id": "4634a118",
   "metadata": {},
   "outputs": [
    {
     "data": {
      "image/png": "[encoded data removed]",
      "text/plain": [
       "<Figure size 1000x600 with 1 Axes>"
      ]
     },
     "metadata": {},
     "output_type": "display_data"
    }
   ],
   "source": [
    "top_10_palabras = sorted([(palabra, frecuencia) for palabra, frecuencia in palabras.items() if palabra not in stop_words],\n",
    "                         key=itemgetter(1), reverse=True)[:10]\n",
    "# Obtener las palabras y las frecuencias para el gráfico de barras\n",
    "palabras_grafico = [palabra for palabra, _ in top_10_palabras]\n",
    "frecuencias_grafico = [frecuencia for _, frecuencia in top_10_palabras]\n",
    "\n",
    "# Crear el gráfico de barras\n",
    "plt.figure(figsize=(10, 6))\n",
    "plt.bar(palabras_grafico, frecuencias_grafico)\n",
    "plt.xlabel(\"Palabras\")\n",
    "plt.ylabel(\"Frecuencia\")\n",
    "plt.title(\"Top 10 Palabras Más Comunes (Sin Stopwords)\")\n",
    "plt.xticks(rotation=45)\n",
    "plt.tight_layout()\n",
    "plt.show()"
   ]
  },
  {
   "cell_type": "code",
   "execution_count": 376,
   "id": "d1837a45",
   "metadata": {},
   "outputs": [
    {
     "name": "stdout",
     "output_type": "stream",
     "text": [
      "Vector IDF:\n",
      "[[3.35240722 4.96184513 6.2146081  ... 4.96184513 6.2146081  5.80914299]]\n",
      "[[34  6  1 ...  6  1  2]]\n"
     ]
    }
   ],
   "source": [
    "# Calcular el vector IDF\n",
    "num_titulos = X.shape[0]\n",
    "num_documentos_con_palabra = np.sum(X > 0, axis=0)\n",
    "idf = np.log(num_titulos / (num_documentos_con_palabra + 1))\n",
    "\n",
    "print(\"Vector IDF:\")\n",
    "print(idf)\n",
    "print(num_documentos_con_palabra)"
   ]
  },
  {
   "cell_type": "code",
   "execution_count": 377,
   "id": "9ae204d0",
   "metadata": {},
   "outputs": [],
   "source": [
    "# Multiplicar la matriz TF por el vector IDF\n",
    "X_tfidf_weighted = X_tfidf.multiply(idf)\n",
    "\n",
    "# Dividir el dataset en conjuntos de entrenamiento y prueba\n",
    "X_train, X_test, y_train, y_test = train_test_split(X_tfidf_weighted, df[\"titulo\"], test_size=0.2, random_state=42)\n"
   ]
  },
  {
   "cell_type": "code",
   "execution_count": 378,
   "id": "d685bd85",
   "metadata": {},
   "outputs": [
    {
     "data": {
      "text/html": [
       "<style>#sk-container-id-3 {color: black;background-color: white;}#sk-container-id-3 pre{padding: 0;}#sk-container-id-3 div.sk-toggleable {background-color: white;}#sk-container-id-3 label.sk-toggleable__label {cursor: pointer;display: block;width: 100%;margin-bottom: 0;padding: 0.3em;box-sizing: border-box;text-align: center;}#sk-container-id-3 label.sk-toggleable__label-arrow:before {content: \"▸\";float: left;margin-right: 0.25em;color: #696969;}#sk-container-id-3 label.sk-toggleable__label-arrow:hover:before {color: black;}#sk-container-id-3 div.sk-estimator:hover label.sk-toggleable__label-arrow:before {color: black;}#sk-container-id-3 div.sk-toggleable__content {max-height: 0;max-width: 0;overflow: hidden;text-align: left;background-color: #f0f8ff;}#sk-container-id-3 div.sk-toggleable__content pre {margin: 0.2em;color: black;border-radius: 0.25em;background-color: #f0f8ff;}#sk-container-id-3 input.sk-toggleable__control:checked~div.sk-toggleable__content {max-height: 200px;max-width: 100%;overflow: auto;}#sk-container-id-3 input.sk-toggleable__control:checked~label.sk-toggleable__label-arrow:before {content: \"▾\";}#sk-container-id-3 div.sk-estimator input.sk-toggleable__control:checked~label.sk-toggleable__label {background-color: #d4ebff;}#sk-container-id-3 div.sk-label input.sk-toggleable__control:checked~label.sk-toggleable__label {background-color: #d4ebff;}#sk-container-id-3 input.sk-hidden--visually {border: 0;clip: rect(1px 1px 1px 1px);clip: rect(1px, 1px, 1px, 1px);height: 1px;margin: -1px;overflow: hidden;padding: 0;position: absolute;width: 1px;}#sk-container-id-3 div.sk-estimator {font-family: monospace;background-color: #f0f8ff;border: 1px dotted black;border-radius: 0.25em;box-sizing: border-box;margin-bottom: 0.5em;}#sk-container-id-3 div.sk-estimator:hover {background-color: #d4ebff;}#sk-container-id-3 div.sk-parallel-item::after {content: \"\";width: 100%;border-bottom: 1px solid gray;flex-grow: 1;}#sk-container-id-3 div.sk-label:hover label.sk-toggleable__label {background-color: #d4ebff;}#sk-container-id-3 div.sk-serial::before {content: \"\";position: absolute;border-left: 1px solid gray;box-sizing: border-box;top: 0;bottom: 0;left: 50%;z-index: 0;}#sk-container-id-3 div.sk-serial {display: flex;flex-direction: column;align-items: center;background-color: white;padding-right: 0.2em;padding-left: 0.2em;position: relative;}#sk-container-id-3 div.sk-item {position: relative;z-index: 1;}#sk-container-id-3 div.sk-parallel {display: flex;align-items: stretch;justify-content: center;background-color: white;position: relative;}#sk-container-id-3 div.sk-item::before, #sk-container-id-3 div.sk-parallel-item::before {content: \"\";position: absolute;border-left: 1px solid gray;box-sizing: border-box;top: 0;bottom: 0;left: 50%;z-index: -1;}#sk-container-id-3 div.sk-parallel-item {display: flex;flex-direction: column;z-index: 1;position: relative;background-color: white;}#sk-container-id-3 div.sk-parallel-item:first-child::after {align-self: flex-end;width: 50%;}#sk-container-id-3 div.sk-parallel-item:last-child::after {align-self: flex-start;width: 50%;}#sk-container-id-3 div.sk-parallel-item:only-child::after {width: 0;}#sk-container-id-3 div.sk-dashed-wrapped {border: 1px dashed gray;margin: 0 0.4em 0.5em 0.4em;box-sizing: border-box;padding-bottom: 0.4em;background-color: white;}#sk-container-id-3 div.sk-label label {font-family: monospace;font-weight: bold;display: inline-block;line-height: 1.2em;}#sk-container-id-3 div.sk-label-container {text-align: center;}#sk-container-id-3 div.sk-container {/* jupyter's `normalize.less` sets `[hidden] { display: none; }` but bootstrap.min.css set `[hidden] { display: none !important; }` so we also need the `!important` here to be able to override the default hidden behavior on the sphinx rendered scikit-learn.org. See: https://github.com/scikit-learn/scikit-learn/issues/21755 */display: inline-block !important;position: relative;}#sk-container-id-3 div.sk-text-repr-fallback {display: none;}</style><div id=\"sk-container-id-3\" class=\"sk-top-container\"><div class=\"sk-text-repr-fallback\"><pre>GradientBoostingClassifier()</pre><b>In a Jupyter environment, please rerun this cell to show the HTML representation or trust the notebook. <br />On GitHub, the HTML representation is unable to render, please try loading this page with nbviewer.org.</b></div><div class=\"sk-container\" hidden><div class=\"sk-item\"><div class=\"sk-estimator sk-toggleable\"><input class=\"sk-toggleable__control sk-hidden--visually\" id=\"sk-estimator-id-3\" type=\"checkbox\" checked><label for=\"sk-estimator-id-3\" class=\"sk-toggleable__label sk-toggleable__label-arrow\">GradientBoostingClassifier</label><div class=\"sk-toggleable__content\"><pre>GradientBoostingClassifier()</pre></div></div></div></div></div>"
      ],
      "text/plain": [
       "GradientBoostingClassifier()"
      ]
     },
     "execution_count": 378,
     "metadata": {},
     "output_type": "execute_result"
    }
   ],
   "source": [
    "# Entrenar modelos\n",
    "logreg = LogisticRegression()\n",
    "logreg.fit(X_train, y_train)\n",
    "rf = RandomForestClassifier()\n",
    "rf.fit(X_train, y_train)\n",
    "\n",
    "gbm = GradientBoostingClassifier()\n",
    "gbm.fit(X_train, y_train)"
   ]
  },
  {
   "cell_type": "code",
   "execution_count": 379,
   "id": "40973af2",
   "metadata": {},
   "outputs": [],
   "source": [
    "# Predecir las categorías para los datos de prueba\n",
    "y_pred_logreg = logreg.predict(X_test)\n",
    "y_pred_rf = rf.predict(X_test)\n",
    "y_pred_gbm = gbm.predict(X_test)\n"
   ]
  },
  {
   "cell_type": "code",
   "execution_count": 384,
   "id": "3ca2bec9",
   "metadata": {},
   "outputs": [
    {
     "name": "stderr",
     "output_type": "stream",
     "text": [
      "C:\\Users\\smejia\\AppData\\Local\\anaconda3\\lib\\site-packages\\sklearn\\metrics\\_classification.py:1344: UndefinedMetricWarning: Precision is ill-defined and being set to 0.0 in labels with no predicted samples. Use `zero_division` parameter to control this behavior.\n",
      "  _warn_prf(average, modifier, msg_start, len(result))\n",
      "C:\\Users\\smejia\\AppData\\Local\\anaconda3\\lib\\site-packages\\sklearn\\metrics\\_classification.py:1344: UndefinedMetricWarning: Recall is ill-defined and being set to 0.0 in labels with no true samples. Use `zero_division` parameter to control this behavior.\n",
      "  _warn_prf(average, modifier, msg_start, len(result))\n"
     ]
    }
   ],
   "source": [
    "# Calcular las métricas\n",
    "accuracy_logreg = accuracy_score(y_test, y_pred_logreg)\n",
    "precision_logreg = precision_score(y_test, y_pred_logreg, average=\"weighted\")\n",
    "recall_logreg = recall_score(y_test, y_pred_logreg, average=\"weighted\")"
   ]
  },
  {
   "cell_type": "code",
   "execution_count": 385,
   "id": "ce8cf68e",
   "metadata": {},
   "outputs": [
    {
     "name": "stderr",
     "output_type": "stream",
     "text": [
      "C:\\Users\\smejia\\AppData\\Local\\anaconda3\\lib\\site-packages\\sklearn\\metrics\\_classification.py:1344: UndefinedMetricWarning: Precision is ill-defined and being set to 0.0 in labels with no predicted samples. Use `zero_division` parameter to control this behavior.\n",
      "  _warn_prf(average, modifier, msg_start, len(result))\n",
      "C:\\Users\\smejia\\AppData\\Local\\anaconda3\\lib\\site-packages\\sklearn\\metrics\\_classification.py:1344: UndefinedMetricWarning: Recall is ill-defined and being set to 0.0 in labels with no true samples. Use `zero_division` parameter to control this behavior.\n",
      "  _warn_prf(average, modifier, msg_start, len(result))\n"
     ]
    }
   ],
   "source": [
    "accuracy_rf = accuracy_score(y_test, y_pred_rf)\n",
    "precision_rf = precision_score(y_test, y_pred_rf, average=\"weighted\")\n",
    "recall_rf = recall_score(y_test, y_pred_rf, average=\"weighted\")"
   ]
  },
  {
   "cell_type": "code",
   "execution_count": 386,
   "id": "934b61e8",
   "metadata": {},
   "outputs": [
    {
     "name": "stderr",
     "output_type": "stream",
     "text": [
      "C:\\Users\\smejia\\AppData\\Local\\anaconda3\\lib\\site-packages\\sklearn\\metrics\\_classification.py:1344: UndefinedMetricWarning: Precision is ill-defined and being set to 0.0 in labels with no predicted samples. Use `zero_division` parameter to control this behavior.\n",
      "  _warn_prf(average, modifier, msg_start, len(result))\n",
      "C:\\Users\\smejia\\AppData\\Local\\anaconda3\\lib\\site-packages\\sklearn\\metrics\\_classification.py:1344: UndefinedMetricWarning: Recall is ill-defined and being set to 0.0 in labels with no true samples. Use `zero_division` parameter to control this behavior.\n",
      "  _warn_prf(average, modifier, msg_start, len(result))\n"
     ]
    }
   ],
   "source": [
    "accuracy_gbm = accuracy_score(y_test, y_pred_gbm)\n",
    "precision_gbm = precision_score(y_test, y_pred_gbm, average=\"weighted\")\n",
    "recall_gbm = recall_score(y_test, y_pred_gbm, average=\"weighted\")"
   ]
  },
  {
   "cell_type": "code",
   "execution_count": 389,
   "id": "a2d43061",
   "metadata": {},
   "outputs": [
    {
     "name": "stdout",
     "output_type": "stream",
     "text": [
      "Métricas del modelo de Regresión Logística:\n",
      "Accuracy: 0.005\n",
      "Precision: 0.005\n",
      "Recall: 0.005\n",
      "\n",
      "Métricas del modelo de Random Forest:\n",
      "Accuracy: 0.005\n"
     ]
    }
   ],
   "source": [
    "# Imprimir las métricas\n",
    "print(\"Métricas del modelo de Regresión Logística:\")\n",
    "print(\"Accuracy:\", accuracy_logreg)\n",
    "print(\"Precision:\", precision_logreg)\n",
    "print(\"Recall:\", recall_logreg)\n",
    "print()\n",
    "\n",
    "print(\"Métricas del modelo de Random Forest:\")\n",
    "print(\"Accuracy:\", accuracy_gbm)"
   ]
  },
  {
   "cell_type": "code",
   "execution_count": null,
   "id": "2907acae",
   "metadata": {},
   "outputs": [],
   "source": []
  }
 ],
 "metadata": {
  "kernelspec": {
   "display_name": "Python 3 (ipykernel)",
   "language": "python",
   "name": "python3"
  },
  "language_info": {
   "codemirror_mode": {
    "name": "ipython",
    "version": 3
   },
   "file_extension": ".py",
   "mimetype": "text/x-python",
   "name": "python",
   "nbconvert_exporter": "python",
   "pygments_lexer": "ipython3",
   "version": "3.10.9"
  }
 },
 "nbformat": 4,
 "nbformat_minor": 5
}
